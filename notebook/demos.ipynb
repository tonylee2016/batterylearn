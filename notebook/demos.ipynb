{
 "cells": [
  {
   "cell_type": "code",
   "execution_count": null,
   "metadata": {
    "pycharm": {
     "name": "#%%\n"
    }
   },
   "outputs": [],
   "source": [
    "import numpy as np\n",
    "import pandas as pd\n",
    "from pyens.models import Flywheel, OCV, EcmCell\n",
    "from pyens.utilities import ivp\n",
    "from pyens.simulations import Data, Current, Learner,Simulator\n",
    "import os\n",
    "import matplotlib.pyplot as plt"
   ]
  },
  {
   "cell_type": "code",
   "execution_count": null,
   "metadata": {
    "pycharm": {
     "name": "#%%\n"
    }
   },
   "outputs": [],
   "source": [
    "ocv = [3.3, 3.5, 3.55, 3.6, 3.65, 3.68, 3.70, 3.8, 3.95, 4.0, 4.1]\n",
    "soc = [0, 10, 20, 30, 40, 50, 60, 70, 80, 90, 100]\n",
    "\n",
    "c1 = OCV(name=\"curve1\", ocv=ocv, soc=soc)\n",
    "\n",
    "c1.display()"
   ]
  },
  {
   "cell_type": "code",
   "execution_count": null,
   "metadata": {
    "pycharm": {
     "name": "#%%\n"
    }
   },
   "outputs": [],
   "source": [
    "param = {\n",
    " \"R0\": 0.034,\n",
    " \"R1\": 0.022,\n",
    " \"C1\": 1500,\n",
    " \"R2\": 0.019,\n",
    " \"C2\": 65000,\n",
    " \"CAP\": 15,\n",
    " \"ce\": 0.96,\n",
    " \"v_limits\": [2.5, 4.5],\n",
    " \"SOC_RANGE\": [0.0, 100.0],\n",
    "}\n",
    "\n",
    "m1 = EcmCell(name=\"cell_model1\", parameters=param, curve=c1)\n",
    "# m1.display()"
   ]
  },
  {
   "cell_type": "code",
   "execution_count": null,
   "metadata": {
    "pycharm": {
     "name": "#%%\n"
    }
   },
   "outputs": [],
   "source": [
    "dt = 0.1\n",
    "CURR_EXCITATION = 7.5\n",
    "HOUR = 3600.0\n",
    "h_steps = [1.75, 0.25, 0.25, 0.25, 1, 1, 1]\n",
    "current_steps = [\n",
    " -CURR_EXCITATION,\n",
    " -CURR_EXCITATION / 2,\n",
    " -CURR_EXCITATION / 4,\n",
    " -CURR_EXCITATION / 8,\n",
    " 0.0,\n",
    " CURR_EXCITATION,\n",
    " 0.0,\n",
    "]\n",
    "\n",
    "initial_soc = 0.0\n",
    "t_steps = [value * HOUR for value in h_steps]\n",
    "total_time = sum(t_steps)\n",
    "samples = int(total_time / dt)\n",
    "\n",
    "time_np = np.linspace(0.0, total_time, samples)\n",
    "step_cur = Current(name=\"current1\")"
   ]
  },
  {
   "cell_type": "code",
   "execution_count": null,
   "metadata": {
    "pycharm": {
     "name": "#%%\n"
    }
   },
   "outputs": [],
   "source": [
    "for t_step, current_step in zip(t_steps, current_steps):\n",
    " step_cur.add_step(current_step, int(t_step / dt))\n",
    "\n",
    "data = {\"time\": time_np, \"current\": step_cur.current}\n",
    "df = pd.DataFrame(data)\n",
    "d1 = Data(name=\"current_excite\", df=df)"
   ]
  },
  {
   "cell_type": "code",
   "execution_count": null,
   "metadata": {
    "collapsed": false,
    "pycharm": {
     "name": "#%%\n"
    }
   },
   "outputs": [],
   "source": [
    "s1 = Simulator(name=\"simulator1\")\n",
    "s1.attach(m1).attach(d1)"
   ]
  },
  {
   "cell_type": "code",
   "execution_count": null,
   "metadata": {
    "collapsed": false,
    "pycharm": {
     "name": "#%%\n"
    }
   },
   "outputs": [],
   "source": [
    "sol = s1.run(\n",
    "    pair=(\"cell_model1\", \"current_excite\"),\n",
    "    x0=np.array([0, 0, initial_soc]),\n",
    "    config={\"solver_type\": \"adaptive\", \"solution_name\": \"sol1\"},\n",
    ")\n",
    "\n",
    "sol.disp([\"current\", \"soc\", \"vt\"])"
   ]
  },
  {
   "cell_type": "code",
   "execution_count": null,
   "metadata": {},
   "outputs": [],
   "source": [
    "TESTDATA_FILEPATH = os.path.join(os.path.dirname(os.getcwd()),'tests/CS2_3_9_28_11.csv')\n",
    "schema = {\n",
    "    \"Test_Time(s)\": \"time\",\n",
    "    \"Current(A)\": \"current\",\n",
    "    \"Voltage(V)\": \"vt\",\n",
    "    \"rsv_i_dir\": True,\n",
    "}\n",
    "d1 = Data(name='d1', df=None)\n",
    "d1.fetch_file(TESTDATA_FILEPATH, schema=schema)\n",
    "# save the calculation time\n",
    "# d1.df=d1.df[d1.df['time']>3000].reset_index()"
   ]
  },
  {
   "cell_type": "code",
   "execution_count": null,
   "metadata": {},
   "outputs": [],
   "source": [
    "\n",
    "# l1=Learner(name=\"l1\")\n",
    "# # initial guess for R0, R1,C1,R2,C2\n",
    "# p0=[0.1,\n",
    "# 0.005,\n",
    "# 1500,\n",
    "# 0.04,\n",
    "# 65000]\n",
    "# x0=np.array([0, 0, 100])\n",
    "# config={\"solver_type\": None, \"solution_name\": \"sol1\"}\n",
    "# res=l1.fit_parameters(p0,d1,c1,config,x0,\"ls\")\n",
    "# R0,R1,C1,R2,C2=res.x\n",
    "# print(\"R0:\",R0,\"R1:\",res.x[1],\"C1:\",res.x[2],\"R2:\",res.x[3],\"C2:\",res.x[4])\n"
   ]
  },
  {
   "cell_type": "code",
   "execution_count": null,
   "metadata": {},
   "outputs": [],
   "source": [
    "param_sim = {\n",
    " \"R0\": 0.034,\n",
    " \"R1\": 0.022,\n",
    " \"C1\": 1500,\n",
    " \"R2\": 0.019,\n",
    " \"C2\": 65000,\n",
    " \"CAP\": d1.df['Discharge_Capacity(Ah)'].max(),\n",
    " \"ce\": 0.96,\n",
    " \"v_limits\": [2.5, 4.5],\n",
    " \"SOC_RANGE\": [0.0, 100.0],\n",
    "}\n",
    "m_sim = EcmCell(name=\"cell_model_sim\", parameters=param_sim, curve=c1)\n",
    "s2=Simulator(name=\"s2\")\n",
    "s2.attach(d1).attach(m_sim)\n",
    "l2=Learner(name=\"l2\")\n",
    "l2.attach(s2)\n",
    "m_d_s=('cell_model_sim','d1','s2')\n",
    "x0_sim=np.array([0, 0, 100])\n",
    "config={\"solver_type\": None, \"solution_name\": \"sol1\"}\n",
    "method=\"global\"\n",
    "res=l2.fit_parameters(m_d_s,config,x0_sim,method)"
   ]
  },
  {
   "cell_type": "code",
   "execution_count": null,
   "metadata": {},
   "outputs": [],
   "source": [
    "# d1.df['Charge_Capacity(Ah)'].max()\n",
    "# d1.df['Discharge_Capacity(Ah)'].max()\n",
    "res.x"
   ]
  },
  {
   "cell_type": "code",
   "execution_count": null,
   "metadata": {},
   "outputs": [],
   "source": [
    "d2=s2.get(\"sol1\")\n",
    "d1.df.vt.min()\n",
    "# d2.df.current.iloc[11104]"
   ]
  },
  {
   "cell_type": "code",
   "execution_count": null,
   "metadata": {},
   "outputs": [],
   "source": [
    "# res=l1.run_sim(p0,d1.get_current,d1.df.time,c1,config,x0)\n",
    "# len(res[0])\n",
    "# plt.plot(d1.df.vt,'.',label=\"true\")\n",
    "# plt.plot(res[0],'.',label=\"pred\")\n",
    "# plt.legend()"
   ]
  },
  {
   "cell_type": "code",
   "execution_count": null,
   "metadata": {},
   "outputs": [],
   "source": [
    "from sklearn.metrics import mean_squared_error,r2_score\n",
    "d2=s2.get(\"sol1\")\n",
    "y_true=d1.df.vt\n",
    "y_pred=d2.df.vt\n",
    "\n",
    "rmse=mean_squared_error(y_true, y_pred, squared=False)\n",
    "r_square=r2_score(y_true, y_pred)\n",
    "print('rmse:',rmse,\"r square:\",r_square)\n",
    "\n",
    "plt.plot(y_true,'.',label=\"true\")\n",
    "plt.plot(y_pred,'.',label=\"pred\")\n",
    "\n",
    "plt.xlabel('time (ms)')\n",
    "plt.ylabel('vt')\n",
    "plt.legend()\n",
    "plt.show()"
   ]
  },
  {
   "cell_type": "code",
   "execution_count": null,
   "metadata": {},
   "outputs": [],
   "source": [
    "plt.plot(d1.df.current.iloc[300:3740],'.',label=\"curr\")\n",
    "d2.df.time.iloc[3679]-d2.df.time.iloc[3678]\n",
    "d1.df[['time','current']].iloc[3678:3680]\n",
    "# d1.df.time"
   ]
  },
  {
   "cell_type": "code",
   "execution_count": null,
   "metadata": {},
   "outputs": [],
   "source": [
    "d1.df.time.iloc[100:4000].diff().idxmax()\n",
    "d1.df.time.iloc[3700:4000].diff()\n",
    "# d2.df[['time','current','vt']].iloc[3650:3710]"
   ]
  },
  {
   "cell_type": "code",
   "execution_count": null,
   "metadata": {},
   "outputs": [],
   "source": [
    "res"
   ]
  }
 ],
 "metadata": {
  "kernelspec": {
   "display_name": "Python 3.10.4 ('.venv': venv)",
   "language": "python",
   "name": "python3"
  },
  "language_info": {
   "codemirror_mode": {
    "name": "ipython",
    "version": 3
   },
   "file_extension": ".py",
   "mimetype": "text/x-python",
   "name": "python",
   "nbconvert_exporter": "python",
   "pygments_lexer": "ipython3",
   "version": "3.10.4"
  },
  "vscode": {
   "interpreter": {
    "hash": "cf2d95c092acc15a84d262de8cf87898a34a3b53e208a09484e019609355a69d"
   }
  }
 },
 "nbformat": 4,
 "nbformat_minor": 1
}